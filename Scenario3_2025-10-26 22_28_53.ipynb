{
 "cells": [
  {
   "cell_type": "code",
   "execution_count": 0,
   "metadata": {
    "application/vnd.databricks.v1+cell": {
     "cellMetadata": {
      "byteLimit": 2048000,
      "rowLimit": 10000
     },
     "inputWidgets": {},
     "nuid": "cae7af01-81e6-40d4-b9ab-5f2838be9b20",
     "showTitle": false,
     "tableResultSettingsMap": {},
     "title": ""
    }
   },
   "outputs": [
    {
     "output_type": "display_data",
     "data": {
      "text/html": [
       "<style scoped>\n",
       "  .table-result-container {\n",
       "    max-height: 300px;\n",
       "    overflow: auto;\n",
       "  }\n",
       "  table, th, td {\n",
       "    border: 1px solid black;\n",
       "    border-collapse: collapse;\n",
       "  }\n",
       "  th, td {\n",
       "    padding: 5px;\n",
       "  }\n",
       "  th {\n",
       "    text-align: left;\n",
       "  }\n",
       "</style><div class='table-result-container'><table class='table-result'><thead style='background-color: white'><tr><th>customer</th><th>delivery_updates</th><th>items</th><th>order_id</th><th>order_timestamp</th><th>payment</th></tr></thead><tbody><tr><td>List(CUST101, john.doe@example.com, List(Toronto, Canada), John Doe)</td><td>List(Order Placed, Packed, Shipped, Out for Delivery)</td><td>List(List(ITEM1001, 25.5, Wireless Mouse, 2), List(ITEM1002, 199.75, Mechanical Keyboard, 1))</td><td>ORD001</td><td>2025-08-15T10:45:30Z</td><td>List(250.75, CAD, Credit Card)</td></tr><tr><td>List(CUST102, jane.smith@example.com, List(Vancouver, Canada), Jane Smith)</td><td>List(Order Placed, Packed, Shipped)</td><td>List(List(ITEM1003, 89.99, USB-C Hub, 1))</td><td>ORD002</td><td>2025-08-15T11:10:15Z</td><td>List(89.99, CAD, PayPal)</td></tr></tbody></table></div>"
      ]
     },
     "metadata": {
      "application/vnd.databricks.v1+output": {
       "addedWidgets": {},
       "aggData": [],
       "aggError": "",
       "aggOverflow": false,
       "aggSchema": [],
       "aggSeriesLimitReached": false,
       "aggType": "",
       "arguments": {},
       "columnCustomDisplayInfos": {},
       "data": [
        [
         [
          "CUST101",
          "john.doe@example.com",
          [
           "Toronto",
           "Canada"
          ],
          "John Doe"
         ],
         [
          "Order Placed",
          "Packed",
          "Shipped",
          "Out for Delivery"
         ],
         [
          [
           "ITEM1001",
           25.5,
           "Wireless Mouse",
           2
          ],
          [
           "ITEM1002",
           199.75,
           "Mechanical Keyboard",
           1
          ]
         ],
         "ORD001",
         "2025-08-15T10:45:30Z",
         [
          250.75,
          "CAD",
          "Credit Card"
         ]
        ],
        [
         [
          "CUST102",
          "jane.smith@example.com",
          [
           "Vancouver",
           "Canada"
          ],
          "Jane Smith"
         ],
         [
          "Order Placed",
          "Packed",
          "Shipped"
         ],
         [
          [
           "ITEM1003",
           89.99,
           "USB-C Hub",
           1
          ]
         ],
         "ORD002",
         "2025-08-15T11:10:15Z",
         [
          89.99,
          "CAD",
          "PayPal"
         ]
        ]
       ],
       "datasetInfos": [],
       "dbfsResultPath": null,
       "isJsonSchema": true,
       "metadata": {},
       "overflow": false,
       "plotOptions": {
        "customPlotOptions": {},
        "displayType": "table",
        "pivotAggregation": null,
        "pivotColumns": null,
        "xColumns": null,
        "yColumns": null
       },
       "removedWidgets": [],
       "schema": [
        {
         "metadata": "{}",
         "name": "customer",
         "type": "{\"fields\":[{\"metadata\":{},\"name\":\"customer_id\",\"nullable\":true,\"type\":\"string\"},{\"metadata\":{},\"name\":\"email\",\"nullable\":true,\"type\":\"string\"},{\"metadata\":{},\"name\":\"location\",\"nullable\":true,\"type\":{\"fields\":[{\"metadata\":{},\"name\":\"city\",\"nullable\":true,\"type\":\"string\"},{\"metadata\":{},\"name\":\"country\",\"nullable\":true,\"type\":\"string\"}],\"type\":\"struct\"}},{\"metadata\":{},\"name\":\"name\",\"nullable\":true,\"type\":\"string\"}],\"type\":\"struct\"}"
        },
        {
         "metadata": "{}",
         "name": "delivery_updates",
         "type": "{\"containsNull\":true,\"elementType\":\"string\",\"type\":\"array\"}"
        },
        {
         "metadata": "{}",
         "name": "items",
         "type": "{\"containsNull\":true,\"elementType\":{\"fields\":[{\"metadata\":{},\"name\":\"item_id\",\"nullable\":true,\"type\":\"string\"},{\"metadata\":{},\"name\":\"price_per_unit\",\"nullable\":true,\"type\":\"double\"},{\"metadata\":{},\"name\":\"product_name\",\"nullable\":true,\"type\":\"string\"},{\"metadata\":{},\"name\":\"quantity\",\"nullable\":true,\"type\":\"long\"}],\"type\":\"struct\"},\"type\":\"array\"}"
        },
        {
         "metadata": "{}",
         "name": "order_id",
         "type": "\"string\""
        },
        {
         "metadata": "{}",
         "name": "order_timestamp",
         "type": "\"string\""
        },
        {
         "metadata": "{}",
         "name": "payment",
         "type": "{\"fields\":[{\"metadata\":{},\"name\":\"amount\",\"nullable\":true,\"type\":\"double\"},{\"metadata\":{},\"name\":\"currency\",\"nullable\":true,\"type\":\"string\"},{\"metadata\":{},\"name\":\"method\",\"nullable\":true,\"type\":\"string\"}],\"type\":\"struct\"}"
        }
       ],
       "type": "table"
      }
     },
     "output_type": "display_data"
    }
   ],
   "source": [
    "df = spark.read.format(\"json\")\\\n",
    "    .option(\"inferSchema\", \"True\")\\\n",
    "    .option(\"multiLine\", \"True\")\\\n",
    "    .load(\"/Volumes/pyspark_cata/source/db_volume/jsonData/\")\n",
    "display(df)"
   ]
  },
  {
   "cell_type": "code",
   "execution_count": 0,
   "metadata": {
    "application/vnd.databricks.v1+cell": {
     "cellMetadata": {
      "byteLimit": 2048000,
      "rowLimit": 10000
     },
     "inputWidgets": {},
     "nuid": "911e5999-e24a-479e-a473-ea0ad578576b",
     "showTitle": false,
     "tableResultSettingsMap": {},
     "title": ""
    }
   },
   "outputs": [
    {
     "output_type": "execute_result",
     "data": {
      "text/plain": [
       "StructType([StructField('customer', StructType([StructField('customer_id', StringType(), True), StructField('email', StringType(), True), StructField('location', StructType([StructField('city', StringType(), True), StructField('country', StringType(), True)]), True), StructField('name', StringType(), True)]), True), StructField('delivery_updates', ArrayType(StringType(), True), True), StructField('items', ArrayType(StructType([StructField('item_id', StringType(), True), StructField('price_per_unit', DoubleType(), True), StructField('product_name', StringType(), True), StructField('quantity', LongType(), True)]), True), True), StructField('order_id', StringType(), True), StructField('order_timestamp', StringType(), True), StructField('payment', StructType([StructField('amount', DoubleType(), True), StructField('currency', StringType(), True), StructField('method', StringType(), True)]), True)])"
      ]
     },
     "execution_count": 4,
     "metadata": {},
     "output_type": "execute_result"
    }
   ],
   "source": [
    "df.schema"
   ]
  },
  {
   "cell_type": "code",
   "execution_count": 0,
   "metadata": {
    "application/vnd.databricks.v1+cell": {
     "cellMetadata": {
      "byteLimit": 2048000,
      "rowLimit": 10000
     },
     "inputWidgets": {},
     "nuid": "95230d9e-291c-43de-99ac-b6dba098a744",
     "showTitle": false,
     "tableResultSettingsMap": {
      "0": {
       "dataGridStateBlob": "{\"version\":1,\"tableState\":{\"columnPinning\":{\"left\":[\"#row_number#\"],\"right\":[]},\"columnSizing\":{},\"columnVisibility\":{}},\"settings\":{\"columns\":{}},\"syncTimestamp\":1761498992088}",
       "filterBlob": null,
       "queryPlanFiltersBlob": null,
       "tableResultIndex": 0
      }
     },
     "title": ""
    }
   },
   "outputs": [
    {
     "output_type": "display_data",
     "data": {
      "text/html": [
       "<style scoped>\n",
       "  .table-result-container {\n",
       "    max-height: 300px;\n",
       "    overflow: auto;\n",
       "  }\n",
       "  table, th, td {\n",
       "    border: 1px solid black;\n",
       "    border-collapse: collapse;\n",
       "  }\n",
       "  th, td {\n",
       "    padding: 5px;\n",
       "  }\n",
       "  th {\n",
       "    text-align: left;\n",
       "  }\n",
       "</style><div class='table-result-container'><table class='table-result'><thead style='background-color: white'><tr><th>customer_id</th><th>email</th><th>city</th><th>country</th></tr></thead><tbody><tr><td>CUST101</td><td>john.doe@example.com</td><td>Toronto</td><td>Canada</td></tr><tr><td>CUST102</td><td>jane.smith@example.com</td><td>Vancouver</td><td>Canada</td></tr></tbody></table></div>"
      ]
     },
     "metadata": {
      "application/vnd.databricks.v1+output": {
       "addedWidgets": {},
       "aggData": [],
       "aggError": "",
       "aggOverflow": false,
       "aggSchema": [],
       "aggSeriesLimitReached": false,
       "aggType": "",
       "arguments": {},
       "columnCustomDisplayInfos": {},
       "data": [
        [
         "CUST101",
         "john.doe@example.com",
         "Toronto",
         "Canada"
        ],
        [
         "CUST102",
         "jane.smith@example.com",
         "Vancouver",
         "Canada"
        ]
       ],
       "datasetInfos": [],
       "dbfsResultPath": null,
       "isJsonSchema": true,
       "metadata": {},
       "overflow": false,
       "plotOptions": {
        "customPlotOptions": {},
        "displayType": "table",
        "pivotAggregation": null,
        "pivotColumns": null,
        "xColumns": null,
        "yColumns": null
       },
       "removedWidgets": [],
       "schema": [
        {
         "metadata": "{}",
         "name": "customer_id",
         "type": "\"string\""
        },
        {
         "metadata": "{}",
         "name": "email",
         "type": "\"string\""
        },
        {
         "metadata": "{}",
         "name": "city",
         "type": "\"string\""
        },
        {
         "metadata": "{}",
         "name": "country",
         "type": "\"string\""
        }
       ],
       "type": "table"
      }
     },
     "output_type": "display_data"
    }
   ],
   "source": [
    "df_cust = df.select(\"customer.customer_id\", \"customer.email\", \"customer.location.city\",\"customer.location.country\")\n",
    "display(df_cust)"
   ]
  },
  {
   "cell_type": "code",
   "execution_count": 0,
   "metadata": {
    "application/vnd.databricks.v1+cell": {
     "cellMetadata": {
      "byteLimit": 2048000,
      "rowLimit": 10000
     },
     "inputWidgets": {},
     "nuid": "3610f607-6ed7-4241-9d00-76b49b3aaf67",
     "showTitle": false,
     "tableResultSettingsMap": {},
     "title": ""
    }
   },
   "outputs": [],
   "source": [
    "from pyspark.sql.functions import *"
   ]
  },
  {
   "cell_type": "code",
   "execution_count": 0,
   "metadata": {
    "application/vnd.databricks.v1+cell": {
     "cellMetadata": {
      "byteLimit": 2048000,
      "rowLimit": 10000
     },
     "inputWidgets": {},
     "nuid": "7549665c-171f-4616-b33a-184fbd501edd",
     "showTitle": false,
     "tableResultSettingsMap": {},
     "title": ""
    }
   },
   "outputs": [
    {
     "output_type": "display_data",
     "data": {
      "text/html": [
       "<style scoped>\n",
       "  .table-result-container {\n",
       "    max-height: 300px;\n",
       "    overflow: auto;\n",
       "  }\n",
       "  table, th, td {\n",
       "    border: 1px solid black;\n",
       "    border-collapse: collapse;\n",
       "  }\n",
       "  th, td {\n",
       "    padding: 5px;\n",
       "  }\n",
       "  th {\n",
       "    text-align: left;\n",
       "  }\n",
       "</style><div class='table-result-container'><table class='table-result'><thead style='background-color: white'><tr><th>customer_id</th><th>email</th><th>city</th><th>country</th><th>delivery_update</th><th>item</th></tr></thead><tbody><tr><td>CUST101</td><td>john.doe@example.com</td><td>Toronto</td><td>Canada</td><td>Order Placed</td><td>List(ITEM1001, 25.5, Wireless Mouse, 2)</td></tr><tr><td>CUST101</td><td>john.doe@example.com</td><td>Toronto</td><td>Canada</td><td>Order Placed</td><td>List(ITEM1002, 199.75, Mechanical Keyboard, 1)</td></tr><tr><td>CUST101</td><td>john.doe@example.com</td><td>Toronto</td><td>Canada</td><td>Packed</td><td>List(ITEM1001, 25.5, Wireless Mouse, 2)</td></tr><tr><td>CUST101</td><td>john.doe@example.com</td><td>Toronto</td><td>Canada</td><td>Packed</td><td>List(ITEM1002, 199.75, Mechanical Keyboard, 1)</td></tr><tr><td>CUST101</td><td>john.doe@example.com</td><td>Toronto</td><td>Canada</td><td>Shipped</td><td>List(ITEM1001, 25.5, Wireless Mouse, 2)</td></tr><tr><td>CUST101</td><td>john.doe@example.com</td><td>Toronto</td><td>Canada</td><td>Shipped</td><td>List(ITEM1002, 199.75, Mechanical Keyboard, 1)</td></tr><tr><td>CUST101</td><td>john.doe@example.com</td><td>Toronto</td><td>Canada</td><td>Out for Delivery</td><td>List(ITEM1001, 25.5, Wireless Mouse, 2)</td></tr><tr><td>CUST101</td><td>john.doe@example.com</td><td>Toronto</td><td>Canada</td><td>Out for Delivery</td><td>List(ITEM1002, 199.75, Mechanical Keyboard, 1)</td></tr><tr><td>CUST102</td><td>jane.smith@example.com</td><td>Vancouver</td><td>Canada</td><td>Order Placed</td><td>List(ITEM1003, 89.99, USB-C Hub, 1)</td></tr><tr><td>CUST102</td><td>jane.smith@example.com</td><td>Vancouver</td><td>Canada</td><td>Packed</td><td>List(ITEM1003, 89.99, USB-C Hub, 1)</td></tr><tr><td>CUST102</td><td>jane.smith@example.com</td><td>Vancouver</td><td>Canada</td><td>Shipped</td><td>List(ITEM1003, 89.99, USB-C Hub, 1)</td></tr></tbody></table></div>"
      ]
     },
     "metadata": {
      "application/vnd.databricks.v1+output": {
       "addedWidgets": {},
       "aggData": [],
       "aggError": "",
       "aggOverflow": false,
       "aggSchema": [],
       "aggSeriesLimitReached": false,
       "aggType": "",
       "arguments": {},
       "columnCustomDisplayInfos": {},
       "data": [
        [
         "CUST101",
         "john.doe@example.com",
         "Toronto",
         "Canada",
         "Order Placed",
         [
          "ITEM1001",
          25.5,
          "Wireless Mouse",
          2
         ]
        ],
        [
         "CUST101",
         "john.doe@example.com",
         "Toronto",
         "Canada",
         "Order Placed",
         [
          "ITEM1002",
          199.75,
          "Mechanical Keyboard",
          1
         ]
        ],
        [
         "CUST101",
         "john.doe@example.com",
         "Toronto",
         "Canada",
         "Packed",
         [
          "ITEM1001",
          25.5,
          "Wireless Mouse",
          2
         ]
        ],
        [
         "CUST101",
         "john.doe@example.com",
         "Toronto",
         "Canada",
         "Packed",
         [
          "ITEM1002",
          199.75,
          "Mechanical Keyboard",
          1
         ]
        ],
        [
         "CUST101",
         "john.doe@example.com",
         "Toronto",
         "Canada",
         "Shipped",
         [
          "ITEM1001",
          25.5,
          "Wireless Mouse",
          2
         ]
        ],
        [
         "CUST101",
         "john.doe@example.com",
         "Toronto",
         "Canada",
         "Shipped",
         [
          "ITEM1002",
          199.75,
          "Mechanical Keyboard",
          1
         ]
        ],
        [
         "CUST101",
         "john.doe@example.com",
         "Toronto",
         "Canada",
         "Out for Delivery",
         [
          "ITEM1001",
          25.5,
          "Wireless Mouse",
          2
         ]
        ],
        [
         "CUST101",
         "john.doe@example.com",
         "Toronto",
         "Canada",
         "Out for Delivery",
         [
          "ITEM1002",
          199.75,
          "Mechanical Keyboard",
          1
         ]
        ],
        [
         "CUST102",
         "jane.smith@example.com",
         "Vancouver",
         "Canada",
         "Order Placed",
         [
          "ITEM1003",
          89.99,
          "USB-C Hub",
          1
         ]
        ],
        [
         "CUST102",
         "jane.smith@example.com",
         "Vancouver",
         "Canada",
         "Packed",
         [
          "ITEM1003",
          89.99,
          "USB-C Hub",
          1
         ]
        ],
        [
         "CUST102",
         "jane.smith@example.com",
         "Vancouver",
         "Canada",
         "Shipped",
         [
          "ITEM1003",
          89.99,
          "USB-C Hub",
          1
         ]
        ]
       ],
       "datasetInfos": [],
       "dbfsResultPath": null,
       "isJsonSchema": true,
       "metadata": {},
       "overflow": false,
       "plotOptions": {
        "customPlotOptions": {},
        "displayType": "table",
        "pivotAggregation": null,
        "pivotColumns": null,
        "xColumns": null,
        "yColumns": null
       },
       "removedWidgets": [],
       "schema": [
        {
         "metadata": "{}",
         "name": "customer_id",
         "type": "\"string\""
        },
        {
         "metadata": "{}",
         "name": "email",
         "type": "\"string\""
        },
        {
         "metadata": "{}",
         "name": "city",
         "type": "\"string\""
        },
        {
         "metadata": "{}",
         "name": "country",
         "type": "\"string\""
        },
        {
         "metadata": "{}",
         "name": "delivery_update",
         "type": "\"string\""
        },
        {
         "metadata": "{}",
         "name": "item",
         "type": "{\"fields\":[{\"metadata\":{},\"name\":\"item_id\",\"nullable\":true,\"type\":\"string\"},{\"metadata\":{},\"name\":\"price_per_unit\",\"nullable\":true,\"type\":\"double\"},{\"metadata\":{},\"name\":\"product_name\",\"nullable\":true,\"type\":\"string\"},{\"metadata\":{},\"name\":\"quantity\",\"nullable\":true,\"type\":\"long\"}],\"type\":\"struct\"}"
        }
       ],
       "type": "table"
      }
     },
     "output_type": "display_data"
    }
   ],
   "source": [
    "from pyspark.sql.functions import explode\n",
    "\n",
    "df_cust = df.select(\n",
    "    \"customer.customer_id\",\n",
    "    \"customer.email\",\n",
    "    \"customer.location.city\",\n",
    "    \"customer.location.country\",\n",
    "    \"delivery_updates\",\n",
    "    \"items\"\n",
    ")\n",
    "\n",
    "df_cust_upd = (\n",
    "    df_cust\n",
    "    .withColumn(\"delivery_update\", explode(\"delivery_updates\"))\n",
    "    .withColumn(\"item\", explode(\"items\"))\n",
    "    .drop(\"delivery_updates\", \"items\")\n",
    ")\n",
    "\n",
    "display(df_cust_upd)"
   ]
  }
 ],
 "metadata": {
  "application/vnd.databricks.v1+notebook": {
   "computePreferences": null,
   "dashboards": [],
   "environmentMetadata": {
    "base_environment": "",
    "environment_version": "4"
   },
   "inputWidgetPreferences": null,
   "language": "python",
   "notebookMetadata": {
    "pythonIndentUnit": 4
   },
   "notebookName": "Scenario3_2025-10-26 22:28:53",
   "widgets": {}
  },
  "language_info": {
   "name": "python"
  }
 },
 "nbformat": 4,
 "nbformat_minor": 0
}