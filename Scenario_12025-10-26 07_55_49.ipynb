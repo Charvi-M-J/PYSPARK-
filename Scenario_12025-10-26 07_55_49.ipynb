{
 "cells": [
  {
   "cell_type": "code",
   "execution_count": 0,
   "metadata": {
    "application/vnd.databricks.v1+cell": {
     "cellMetadata": {
      "byteLimit": 2048000,
      "implicitDf": true,
      "rowLimit": 10000
     },
     "inputWidgets": {},
     "nuid": "ef2e2e3d-dcbc-41d1-9e64-41a5c588f704",
     "showTitle": false,
     "tableResultSettingsMap": {},
     "title": ""
    }
   },
   "outputs": [
    {
     "output_type": "display_data",
     "data": {
      "text/html": [
       "<style scoped>\n",
       "  .table-result-container {\n",
       "    max-height: 300px;\n",
       "    overflow: auto;\n",
       "  }\n",
       "  table, th, td {\n",
       "    border: 1px solid black;\n",
       "    border-collapse: collapse;\n",
       "  }\n",
       "  th, td {\n",
       "    padding: 5px;\n",
       "  }\n",
       "  th {\n",
       "    text-align: left;\n",
       "  }\n",
       "</style><div class='table-result-container'><table class='table-result'><thead style='background-color: white'><tr><th>id</th><th>name</th><th>price</th><th>category</th><th>updatedDate</th></tr></thead><tbody><tr><td>1</td><td>iPhone</td><td>1000</td><td>electronics</td><td>2025-10-26T02:46:53.245Z</td></tr><tr><td>2</td><td>Macbook</td><td>2000</td><td>electronics</td><td>2025-10-26T02:46:53.245Z</td></tr><tr><td>3</td><td>T-Shirt</td><td>10</td><td>clothing</td><td>2025-10-26T02:46:53.245Z</td></tr><tr><td>4</td><td>Shirt</td><td>20</td><td>clothing</td><td>2025-10-26T02:46:53.245Z</td></tr><tr><td>5</td><td>Pants</td><td>30</td><td>clothing</td><td>2025-10-26T02:46:53.245Z</td></tr></tbody></table></div>"
      ]
     },
     "metadata": {
      "application/vnd.databricks.v1+output": {
       "addedWidgets": {},
       "aggData": [],
       "aggError": "",
       "aggOverflow": false,
       "aggSchema": [],
       "aggSeriesLimitReached": false,
       "aggType": "",
       "arguments": {},
       "columnCustomDisplayInfos": {},
       "data": [
        [
         1,
         "iPhone",
         1000,
         "electronics",
         "2025-10-26T02:46:53.245Z"
        ],
        [
         2,
         "Macbook",
         2000,
         "electronics",
         "2025-10-26T02:46:53.245Z"
        ],
        [
         3,
         "T-Shirt",
         10,
         "clothing",
         "2025-10-26T02:46:53.245Z"
        ],
        [
         4,
         "Shirt",
         20,
         "clothing",
         "2025-10-26T02:46:53.245Z"
        ],
        [
         5,
         "Pants",
         30,
         "clothing",
         "2025-10-26T02:46:53.245Z"
        ]
       ],
       "datasetInfos": [
        {
         "name": "_sqldf",
         "schema": {
          "fields": [
           {
            "metadata": {},
            "name": "id",
            "nullable": true,
            "type": "integer"
           },
           {
            "metadata": {},
            "name": "name",
            "nullable": true,
            "type": "string"
           },
           {
            "metadata": {},
            "name": "price",
            "nullable": true,
            "type": "integer"
           },
           {
            "metadata": {},
            "name": "category",
            "nullable": true,
            "type": "string"
           },
           {
            "metadata": {},
            "name": "updatedDate",
            "nullable": true,
            "type": "timestamp"
           }
          ],
          "type": "struct"
         },
         "tableIdentifier": null,
         "typeStr": "pyspark.sql.connect.dataframe.DataFrame"
        }
       ],
       "dbfsResultPath": null,
       "isJsonSchema": true,
       "metadata": {
        "createTempViewForImplicitDf": true,
        "dataframeName": "_sqldf",
        "executionCount": 2
       },
       "overflow": false,
       "plotOptions": {
        "customPlotOptions": {},
        "displayType": "table",
        "pivotAggregation": null,
        "pivotColumns": null,
        "xColumns": null,
        "yColumns": null
       },
       "removedWidgets": [],
       "schema": [
        {
         "metadata": "{}",
         "name": "id",
         "type": "\"integer\""
        },
        {
         "metadata": "{}",
         "name": "name",
         "type": "\"string\""
        },
        {
         "metadata": "{}",
         "name": "price",
         "type": "\"integer\""
        },
        {
         "metadata": "{}",
         "name": "category",
         "type": "\"string\""
        },
        {
         "metadata": "{}",
         "name": "updatedDate",
         "type": "\"timestamp\""
        }
       ],
       "type": "table"
      }
     },
     "output_type": "display_data"
    }
   ],
   "source": [
    "%sql\n",
    "SELECT * FROM pyspark_cata.source.products"
   ]
  },
  {
   "cell_type": "code",
   "execution_count": 0,
   "metadata": {
    "application/vnd.databricks.v1+cell": {
     "cellMetadata": {
      "byteLimit": 2048000,
      "rowLimit": 10000
     },
     "inputWidgets": {},
     "nuid": "b52bb605-3003-4201-99b6-c0481e614856",
     "showTitle": false,
     "tableResultSettingsMap": {},
     "title": ""
    }
   },
   "outputs": [],
   "source": [
    "from pyspark.sql.window import Window\n",
    "from pyspark.sql.functions import *"
   ]
  },
  {
   "cell_type": "code",
   "execution_count": 0,
   "metadata": {
    "application/vnd.databricks.v1+cell": {
     "cellMetadata": {
      "byteLimit": 2048000,
      "rowLimit": 10000
     },
     "inputWidgets": {},
     "nuid": "76c02848-75ba-41bc-9fc3-0047fb781ec9",
     "showTitle": false,
     "tableResultSettingsMap": {},
     "title": ""
    }
   },
   "outputs": [
    {
     "output_type": "display_data",
     "data": {
      "text/html": [
       "<style scoped>\n",
       "  .table-result-container {\n",
       "    max-height: 300px;\n",
       "    overflow: auto;\n",
       "  }\n",
       "  table, th, td {\n",
       "    border: 1px solid black;\n",
       "    border-collapse: collapse;\n",
       "  }\n",
       "  th, td {\n",
       "    padding: 5px;\n",
       "  }\n",
       "  th {\n",
       "    text-align: left;\n",
       "  }\n",
       "</style><div class='table-result-container'><table class='table-result'><thead style='background-color: white'><tr><th>id</th><th>name</th><th>price</th><th>category</th><th>updatedDate</th></tr></thead><tbody><tr><td>1</td><td>iPhone</td><td>1000</td><td>electronics</td><td>2025-10-26T02:46:53.245Z</td></tr><tr><td>2</td><td>Macbook</td><td>2000</td><td>electronics</td><td>2025-10-26T02:46:53.245Z</td></tr><tr><td>3</td><td>T-Shirt</td><td>10</td><td>clothing</td><td>2025-10-26T02:46:53.245Z</td></tr><tr><td>4</td><td>Shirt</td><td>20</td><td>clothing</td><td>2025-10-26T02:46:53.245Z</td></tr><tr><td>5</td><td>Trosure</td><td>30</td><td>clothing</td><td>2025-10-26T13:43:55.307Z</td></tr></tbody></table></div>"
      ]
     },
     "metadata": {
      "application/vnd.databricks.v1+output": {
       "addedWidgets": {},
       "aggData": [],
       "aggError": "",
       "aggOverflow": false,
       "aggSchema": [],
       "aggSeriesLimitReached": false,
       "aggType": "",
       "arguments": {},
       "columnCustomDisplayInfos": {},
       "data": [
        [
         1,
         "iPhone",
         1000,
         "electronics",
         "2025-10-26T02:46:53.245Z"
        ],
        [
         2,
         "Macbook",
         2000,
         "electronics",
         "2025-10-26T02:46:53.245Z"
        ],
        [
         3,
         "T-Shirt",
         10,
         "clothing",
         "2025-10-26T02:46:53.245Z"
        ],
        [
         4,
         "Shirt",
         20,
         "clothing",
         "2025-10-26T02:46:53.245Z"
        ],
        [
         5,
         "Trosure",
         30,
         "clothing",
         "2025-10-26T13:43:55.307Z"
        ]
       ],
       "datasetInfos": [],
       "dbfsResultPath": null,
       "isJsonSchema": true,
       "metadata": {},
       "overflow": false,
       "plotOptions": {
        "customPlotOptions": {},
        "displayType": "table",
        "pivotAggregation": null,
        "pivotColumns": null,
        "xColumns": null,
        "yColumns": null
       },
       "removedWidgets": [],
       "schema": [
        {
         "metadata": "{}",
         "name": "id",
         "type": "\"integer\""
        },
        {
         "metadata": "{}",
         "name": "name",
         "type": "\"string\""
        },
        {
         "metadata": "{}",
         "name": "price",
         "type": "\"integer\""
        },
        {
         "metadata": "{}",
         "name": "category",
         "type": "\"string\""
        },
        {
         "metadata": "{}",
         "name": "updatedDate",
         "type": "\"timestamp\""
        }
       ],
       "type": "table"
      }
     },
     "output_type": "display_data"
    }
   ],
   "source": [
    "df = spark.sql(\"select * from pyspark_cata.source.products\")\n",
    "\n",
    "#Dedup\n",
    "df = df.withColumn(\"dedup\",row_number().over(Window.partitionBy(\"id\").orderBy(desc(\"updatedDate\"))))\n",
    "df = df.filter(col(\"dedup\") == 1).drop(\"dedup\")\n",
    "display(df)"
   ]
  },
  {
   "cell_type": "code",
   "execution_count": 0,
   "metadata": {
    "application/vnd.databricks.v1+cell": {
     "cellMetadata": {
      "byteLimit": 2048000,
      "rowLimit": 10000
     },
     "inputWidgets": {},
     "nuid": "a1bf573a-e81f-4641-a31f-279845cf6ba4",
     "showTitle": false,
     "tableResultSettingsMap": {},
     "title": ""
    }
   },
   "outputs": [
    {
     "output_type": "stream",
     "name": "stdout",
     "output_type": "stream",
     "text": [
      "This is upserting now\n"
     ]
    }
   ],
   "source": [
    "from delta.tables import DeltaTable\n",
    "\n",
    "if len(dbutils.fs.ls(\"/Volumes/pyspark_cata/source/db_volume/products_sink\")) > 0:\n",
    "\n",
    "    dlt_obj = DeltaTable.forPath(spark,\"/Volumes/pyspark_cata/source/db_volume/products_sink/\")\n",
    "\n",
    "    dlt_obj.alias(\"trg\").merge(\n",
    "        df.alias(\"src\"),\n",
    "        \"src.id = trg.id\")\\\n",
    "        .whenMatchedUpdateAll(condition=\"src.updatedDate >= trg.updatedDate\")\\\n",
    "        .whenNotMatchedInsertAll()\\\n",
    "        .execute()\n",
    "    print(\"This is upserting now\")\n",
    "\n",
    "else:\n",
    "    df.write.format(\"delta\")\\\n",
    "        .mode(\"Overwrite\")\\\n",
    "        .save(\"/Volumes/pyspark_cata/source/db_volume/products_sink\")"
   ]
  },
  {
   "cell_type": "code",
   "execution_count": 0,
   "metadata": {
    "application/vnd.databricks.v1+cell": {
     "cellMetadata": {
      "byteLimit": 2048000,
      "implicitDf": true,
      "rowLimit": 10000
     },
     "inputWidgets": {},
     "nuid": "a09af157-2a39-4746-ae0f-42b9be9ead72",
     "showTitle": false,
     "tableResultSettingsMap": {},
     "title": ""
    }
   },
   "outputs": [
    {
     "output_type": "display_data",
     "data": {
      "text/html": [
       "<style scoped>\n",
       "  .table-result-container {\n",
       "    max-height: 300px;\n",
       "    overflow: auto;\n",
       "  }\n",
       "  table, th, td {\n",
       "    border: 1px solid black;\n",
       "    border-collapse: collapse;\n",
       "  }\n",
       "  th, td {\n",
       "    padding: 5px;\n",
       "  }\n",
       "  th {\n",
       "    text-align: left;\n",
       "  }\n",
       "</style><div class='table-result-container'><table class='table-result'><thead style='background-color: white'><tr><th>id</th><th>name</th><th>price</th><th>category</th><th>updatedDate</th></tr></thead><tbody><tr><td>1</td><td>iPhone</td><td>1000</td><td>electronics</td><td>2025-10-26T02:46:53.245Z</td></tr><tr><td>2</td><td>Macbook</td><td>2000</td><td>electronics</td><td>2025-10-26T02:46:53.245Z</td></tr><tr><td>3</td><td>T-Shirt</td><td>10</td><td>clothing</td><td>2025-10-26T02:46:53.245Z</td></tr><tr><td>4</td><td>Shirt</td><td>20</td><td>clothing</td><td>2025-10-26T02:46:53.245Z</td></tr><tr><td>5</td><td>Trosure</td><td>30</td><td>clothing</td><td>2025-10-26T13:43:55.307Z</td></tr></tbody></table></div>"
      ]
     },
     "metadata": {
      "application/vnd.databricks.v1+output": {
       "addedWidgets": {},
       "aggData": [],
       "aggError": "",
       "aggOverflow": false,
       "aggSchema": [],
       "aggSeriesLimitReached": false,
       "aggType": "",
       "arguments": {},
       "columnCustomDisplayInfos": {},
       "data": [
        [
         1,
         "iPhone",
         1000,
         "electronics",
         "2025-10-26T02:46:53.245Z"
        ],
        [
         2,
         "Macbook",
         2000,
         "electronics",
         "2025-10-26T02:46:53.245Z"
        ],
        [
         3,
         "T-Shirt",
         10,
         "clothing",
         "2025-10-26T02:46:53.245Z"
        ],
        [
         4,
         "Shirt",
         20,
         "clothing",
         "2025-10-26T02:46:53.245Z"
        ],
        [
         5,
         "Trosure",
         30,
         "clothing",
         "2025-10-26T13:43:55.307Z"
        ]
       ],
       "datasetInfos": [
        {
         "name": "_sqldf",
         "schema": {
          "fields": [
           {
            "metadata": {},
            "name": "id",
            "nullable": true,
            "type": "integer"
           },
           {
            "metadata": {},
            "name": "name",
            "nullable": true,
            "type": "string"
           },
           {
            "metadata": {},
            "name": "price",
            "nullable": true,
            "type": "integer"
           },
           {
            "metadata": {},
            "name": "category",
            "nullable": true,
            "type": "string"
           },
           {
            "metadata": {},
            "name": "updatedDate",
            "nullable": true,
            "type": "timestamp"
           }
          ],
          "type": "struct"
         },
         "tableIdentifier": null,
         "typeStr": "pyspark.sql.connect.dataframe.DataFrame"
        }
       ],
       "dbfsResultPath": null,
       "isJsonSchema": true,
       "metadata": {
        "createTempViewForImplicitDf": true,
        "dataframeName": "_sqldf",
        "executionCount": 62
       },
       "overflow": false,
       "plotOptions": {
        "customPlotOptions": {},
        "displayType": "table",
        "pivotAggregation": null,
        "pivotColumns": null,
        "xColumns": null,
        "yColumns": null
       },
       "removedWidgets": [],
       "schema": [
        {
         "metadata": "{}",
         "name": "id",
         "type": "\"integer\""
        },
        {
         "metadata": "{}",
         "name": "name",
         "type": "\"string\""
        },
        {
         "metadata": "{}",
         "name": "price",
         "type": "\"integer\""
        },
        {
         "metadata": "{}",
         "name": "category",
         "type": "\"string\""
        },
        {
         "metadata": "{}",
         "name": "updatedDate",
         "type": "\"timestamp\""
        }
       ],
       "type": "table"
      }
     },
     "output_type": "display_data"
    }
   ],
   "source": [
    "%sql\n",
    "SELECT * FROM delta.`/Volumes/pyspark_cata/source/db_volume/products_sink/`"
   ]
  },
  {
   "cell_type": "code",
   "execution_count": 0,
   "metadata": {
    "application/vnd.databricks.v1+cell": {
     "cellMetadata": {},
     "inputWidgets": {},
     "nuid": "27d2eee1-30fc-41a9-8d2d-f430f6ab4c35",
     "showTitle": false,
     "tableResultSettingsMap": {},
     "title": ""
    }
   },
   "outputs": [],
   "source": []
  }
 ],
 "metadata": {
  "application/vnd.databricks.v1+notebook": {
   "computePreferences": null,
   "dashboards": [],
   "environmentMetadata": {
    "base_environment": "",
    "environment_version": "4"
   },
   "inputWidgetPreferences": null,
   "language": "python",
   "notebookMetadata": {
    "mostRecentlyExecutedCommandWithImplicitDF": {
     "commandId": 6342284999911664,
     "dataframes": [
      "_sqldf"
     ]
    },
    "pythonIndentUnit": 4
   },
   "notebookName": "Scenario_12025-10-26 07:55:49",
   "widgets": {}
  },
  "language_info": {
   "name": "python"
  }
 },
 "nbformat": 4,
 "nbformat_minor": 0
}